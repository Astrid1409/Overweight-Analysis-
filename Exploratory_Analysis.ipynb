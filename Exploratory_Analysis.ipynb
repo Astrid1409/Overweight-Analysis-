{
 "cells": [
  {
   "cell_type": "markdown",
   "id": "bae6f4e8-89da-4a16-97c5-a054a0680941",
   "metadata": {
    "jp-MarkdownHeadingCollapsed": true
   },
   "source": [
    "<h1 style=\"color: #f73779\t;\"> Estimation_of_Obesity_Levels </h1>"
   ]
  },
  {
   "cell_type": "markdown",
   "id": "d9a975e3-4ee8-47e6-95a3-4bb5a0c9de14",
   "metadata": {},
   "source": [
    "<h1 style=\"color: #F08080\t;\">00. Libraries </h1>"
   ]
  },
  {
   "cell_type": "code",
   "execution_count": null,
   "id": "60e22663-36e0-4fba-bde2-3591016f4ff3",
   "metadata": {},
   "outputs": [],
   "source": [
    "# 📚 Basic Libraries\n",
    "import pandas as pd\n",
    "import numpy as np\n",
    "import warnings # nobody likes warnings\n",
    "import scipy.stats as st\n",
    "import statsmodels.api as sm\n",
    "import statsmodels.formula.api as smf\n",
    "from scipy.stats import ttest_ind\n",
    "\n",
    "# 📊 Visualizations\n",
    "import matplotlib.pyplot as plt\n",
    "import seaborn as sns\n",
    "import plotly.express as px\n",
    "import plotly.graph_objects as go\n",
    "\n",
    "# 🤖 Machine Learning\n",
    "from sklearn.model_selection import train_test_split\n",
    "from sklearn.metrics import cohen_kappa_score\n",
    "from sklearn.linear_model import LinearRegression\n",
    "from sklearn.metrics import r2_score, mean_squared_error, mean_absolute_error\n",
    "from sklearn.model_selection import train_test_split\n",
    "from sklearn.linear_model import LogisticRegression #esta es nueva\n",
    "from sklearn.metrics import roc_curve, confusion_matrix, ConfusionMatrixDisplay #esta es nueva, me da el mapita de calor de roc curve\n",
    "from sklearn.metrics import classification_report #esta es nueva, esta me va a decir todo el reporte\n",
    "from sklearn.preprocessing import StandardScaler\n",
    "from lazypredict.Supervised import LazyClassifier, LazyRegressor\n",
    "from sklearn.model_selection import train_test_split\n",
    "from sklearn import datasets"
   ]
  },
  {
   "cell_type": "code",
   "execution_count": null,
   "id": "c635239c-ddf0-4f8d-8d33-777294cd647d",
   "metadata": {},
   "outputs": [],
   "source": [
    "# ⚙️ Settings\n",
    "pd.set_option('display.max_columns', None) # display all columns\n",
    "warnings.filterwarnings('ignore') # ignore warnings"
   ]
  },
  {
   "cell_type": "markdown",
   "id": "f971084b-4c69-43e9-bf0e-c11ba3d9f090",
   "metadata": {
    "jp-MarkdownHeadingCollapsed": true
   },
   "source": [
    "<h1 style=\"color: #F08080;\">01. Data Documentation </h1>"
   ]
  },
  {
   "cell_type": "markdown",
   "id": "a7990754-acbc-4daa-996a-647aa0ed2c42",
   "metadata": {},
   "source": [
    "| **Variable Name**               | **Role**   | **Type**       | **Demographic** | **Description**                                                                     | **Units** | **Missing Values** |\n",
    "|----------------------------------|------------|----------------|------------------|-------------------------------------------------------------------------------------|-----------|---------------------|\n",
    "| `Gender`                        | Feature    | Categorical    | Gender           |                                                                                     |           | no                  |\n",
    "| `Age`                           | Feature    | Continuous     | Age              |                                                                                     |           | no                  |\n",
    "| `Height`                        | Feature    | Continuous     |                  |                                                                                     |           | no                  |\n",
    "| `Weight`                        | Feature    | Continuous     |                  |                                                                                     |           | no                  |\n",
    "| `family_history_with_overweight`| Feature    | Binary         |                  | Has a family member suffered or suffers from overweight?                           |           | no                  |\n",
    "| `FAVC`                          | Feature    | Binary         |                  | Do you eat high caloric food frequently?                                           |           | no                  |\n",
    "| `FCVC`                          | Feature    | Integer        |                  | Do you usually eat vegetables in your meals?                                       |           | no                  |\n",
    "| `NCP`                           | Feature    | Continuous     |                  | How many main meals do you have daily?                                             |           | no                  |\n",
    "| `CAEC`                          | Feature    | Categorical    |                  | Do you eat any food between meals?                                                 |           | no                  |\n",
    "| `SMOKE`                         | Feature    | Binary         |                  | Do you smoke?                                                                      |           | no                  |\n",
    "| `CH2O`                          | Feature    | Continuous     |                  | How much water do you drink daily?                                                 |           | no                  |\n",
    "| `SCC`                           | Feature    | Binary         |                  | Do you monitor the calories you eat daily?                                         |           | no                  |\n",
    "| `FAF`                           | Feature    | Continuous     |                  | How often do you have physical activity?                                           |           | no                  |\n",
    "| `TUE`                           | Feature    | Integer        |                  | How much time do you use technological devices such as cell phone, videogames, etc.|           | no                  |\n",
    "| `CALC`                          | Feature    | Categorical    |                  | How often do you drink alcohol?                                                    |           | no                  |\n",
    "| `MTRANS`                        | Feature    | Categorical    |                  | Which transportation do you usually use?                                           |           | no                  |\n",
    "| `NObeyesdad`                    | Target     | Categorical    |                  | Obesity level                                                                      |           | no                  |\n",
    "\n",
    "\n",
    "\n",
    "The target variable is `NObeyesdad`.\n"
   ]
  },
  {
   "cell_type": "markdown",
   "id": "c7fc0726-7f46-4864-aaec-9e6ca30fc7da",
   "metadata": {},
   "source": [
    "<h1 style=\"color: #F08080;\">02. Data Extraction </h1>"
   ]
  },
  {
   "cell_type": "code",
   "execution_count": null,
   "id": "3e9d66cd-9923-4157-8432-e93a23ec2aea",
   "metadata": {},
   "outputs": [],
   "source": [
    "data = pd.read_csv(\"C:/Users/astri/Ironhack/second_proyect/ObesityDataSet_raw_and_data_sinthetic.csv\")\n"
   ]
  },
  {
   "cell_type": "code",
   "execution_count": null,
   "id": "b911ef84-90b1-4340-85e1-1e17fd7dddfa",
   "metadata": {},
   "outputs": [],
   "source": [
    "data"
   ]
  },
  {
   "cell_type": "code",
   "execution_count": null,
   "id": "12735c57-53a8-4dc8-8e96-0d3e99d12c3a",
   "metadata": {},
   "outputs": [],
   "source": [
    "data.columns"
   ]
  },
  {
   "cell_type": "markdown",
   "id": "8c4c3d75-8039-417b-b67b-d628f27d6080",
   "metadata": {
    "jp-MarkdownHeadingCollapsed": true
   },
   "source": [
    "<h2 style=\"color: #FFA07A;\">Columns standardization</h2>"
   ]
  },
  {
   "cell_type": "code",
   "execution_count": null,
   "id": "7a8568b9-7592-4bd8-ba7f-b15771f15e68",
   "metadata": {},
   "outputs": [],
   "source": [
    "data.columns = [column.lower().replace(\" \", \"_\") for column in data.columns]"
   ]
  },
  {
   "cell_type": "code",
   "execution_count": null,
   "id": "5854190c-6791-4347-9a3a-290bbe62b479",
   "metadata": {},
   "outputs": [],
   "source": [
    "data.columns = data.columns.str.lower().str.replace(\" \", \"_\")"
   ]
  },
  {
   "cell_type": "markdown",
   "id": "1ac07b09-69fc-4b30-9c82-4c197d0baf4c",
   "metadata": {
    "jp-MarkdownHeadingCollapsed": true
   },
   "source": [
    "<h2 style=\"color: #FFA07A;\">Exploring the Data </h2>"
   ]
  },
  {
   "cell_type": "code",
   "execution_count": null,
   "id": "2283af4a-3f0a-4fbb-a912-b25d359dc01e",
   "metadata": {},
   "outputs": [],
   "source": [
    "data.shape\n"
   ]
  },
  {
   "cell_type": "code",
   "execution_count": null,
   "id": "debd712d-c9b1-48dc-bd6b-8832da53e3dd",
   "metadata": {},
   "outputs": [],
   "source": [
    "data.info()"
   ]
  },
  {
   "cell_type": "markdown",
   "id": "1ee8d710-b012-4969-969c-741b76366520",
   "metadata": {
    "jp-MarkdownHeadingCollapsed": true
   },
   "source": [
    "<h2 style=\"color: #FFA07A;\">Copy as best practices</h2>"
   ]
  },
  {
   "cell_type": "code",
   "execution_count": null,
   "id": "2bf1d25b-7f6b-4c99-8594-f067dcaca411",
   "metadata": {},
   "outputs": [],
   "source": [
    "data.age.nlargest(5)"
   ]
  },
  {
   "cell_type": "code",
   "execution_count": null,
   "id": "c5246234-a4e7-406d-afd3-f90ba43c63f6",
   "metadata": {},
   "outputs": [],
   "source": [
    "data.age.nsmallest(5)"
   ]
  },
  {
   "cell_type": "code",
   "execution_count": null,
   "id": "197cf3f4-f821-4578-8356-369c8ff4ba4e",
   "metadata": {},
   "outputs": [],
   "source": [
    "df = data.copy()"
   ]
  },
  {
   "cell_type": "markdown",
   "id": "f32cfcde-4108-4f49-9820-01ca1dbbe641",
   "metadata": {},
   "source": [
    "<h1 style=\"color: #F08080;\">03. Data Cleaning </h1>"
   ]
  },
  {
   "cell_type": "markdown",
   "id": "ba4cb27d-72a1-48b2-ae3e-543c4dcc2f82",
   "metadata": {},
   "source": [
    "<h2 style=\"color: #FFA07A;\">Dealing with Duplicates, Nan and Empty Spaces</h2>"
   ]
  },
  {
   "cell_type": "code",
   "execution_count": null,
   "id": "4591c231-b966-44e1-bd07-80958b15f2e8",
   "metadata": {},
   "outputs": [],
   "source": [
    "#Duplicated data\n",
    "df.duplicated().sum()"
   ]
  },
  {
   "cell_type": "code",
   "execution_count": null,
   "id": "563ce6c8-c36d-4178-bd23-636694e351bb",
   "metadata": {},
   "outputs": [],
   "source": [
    "#Nan info\n",
    "df.isna().sum()"
   ]
  },
  {
   "cell_type": "code",
   "execution_count": null,
   "id": "b0a53a8b-6c5b-48e0-8e34-bb49942d7bb9",
   "metadata": {},
   "outputs": [],
   "source": [
    "#Empty spaces\n",
    "df.eq(' ').sum()"
   ]
  },
  {
   "cell_type": "markdown",
   "id": "8d0c606c-07cb-4702-847e-d2e3c081fb10",
   "metadata": {},
   "source": [
    "<h1 style=\"color: #F08080;\">04. EDA </h1>"
   ]
  },
  {
   "cell_type": "markdown",
   "id": "e33b505c-f069-4b0d-b1bc-c8908a9017ad",
   "metadata": {
    "jp-MarkdownHeadingCollapsed": true
   },
   "source": [
    "<h2 style=\"color: #FFA07A;\">Checking unique values</h2>"
   ]
  },
  {
   "cell_type": "code",
   "execution_count": null,
   "id": "d9b889d3-3a84-45f6-8f64-dc0820f8a805",
   "metadata": {},
   "outputs": [],
   "source": [
    "df.nunique().sort_values(ascending=False)"
   ]
  },
  {
   "cell_type": "markdown",
   "id": "b0050c7f-c79d-4d05-be26-d474dc98e138",
   "metadata": {
    "jp-MarkdownHeadingCollapsed": true
   },
   "source": [
    "<h2 style=\"color: #FFA07A;\">Divide the Numerical from the Categorical features </h2>"
   ]
  },
  {
   "cell_type": "code",
   "execution_count": null,
   "id": "e5ab45c9-2e8b-4693-85cc-f9c0cf56d5ca",
   "metadata": {},
   "outputs": [],
   "source": [
    "#We analyze whether any numerics should be categorical.\n",
    "cat = df.select_dtypes(exclude=\"number\")\n",
    "num = df.select_dtypes(include=\"number\")"
   ]
  },
  {
   "cell_type": "code",
   "execution_count": null,
   "id": "464f9fe9-73b8-4058-8491-03d5044bd547",
   "metadata": {},
   "outputs": [],
   "source": [
    "cat.columns"
   ]
  },
  {
   "cell_type": "code",
   "execution_count": null,
   "id": "2f378750-daab-4c97-a7c2-013d9b8f421e",
   "metadata": {},
   "outputs": [],
   "source": [
    "num.columns"
   ]
  },
  {
   "cell_type": "markdown",
   "id": "a719c627-2659-46a0-a73c-3251257de842",
   "metadata": {},
   "source": [
    "<h2 style=\"color: #FFA07A;\">Univarible  </h2>\n"
   ]
  },
  {
   "cell_type": "markdown",
   "id": "b0dd883c-9cb8-4f1a-ac39-242f8d669fcc",
   "metadata": {
    "jp-MarkdownHeadingCollapsed": true
   },
   "source": [
    "<h3 style=\"color: #f3b5b5;\">Categorical</h3>"
   ]
  },
  {
   "cell_type": "markdown",
   "id": "1cede88b-1056-4f49-8a4f-003c6c44381a",
   "metadata": {},
   "source": [
    "Lets remember that for the categorical variables we can do the following:\n",
    "\n",
    "Frequency tables. Counts and proportions. we can use value_counts() and \n",
    "pd.crosstab().\n",
    "\n",
    "\n",
    "Visualizations: Bar charts, pie charts"
   ]
  },
  {
   "cell_type": "code",
   "execution_count": null,
   "id": "bba64d0c-cd19-4088-81f5-0c8aecf9fc0b",
   "metadata": {},
   "outputs": [],
   "source": [
    "#We want to have only 4: Normal_weight = 0, Overweight = 1, obesity =2, insufficient =3.\n",
    "mapping = {\"Normal_Weight\": 0, \n",
    "         \"Overweight_Level_I\": 1,\n",
    "         \"Overweight_Level_II\": 1,\n",
    "         \"Obesity_Type_I\": 2,\n",
    "         \"Obesity_Type_II\" : 2,\n",
    "         \"Obesity_Type_III\" : 2,\n",
    "         \"Insufficient_Weight\" : 3}\n",
    "cat['nobeyesdad'].replace(mapping, inplace=True)\n",
    "frequency_table = cat.nobeyesdad.value_counts()\n",
    "print(frequency_table)\n",
    "\n",
    "sns.countplot(\n",
    "    x='nobeyesdad',\n",
    "    data=cat,                       \n",
    "    palette=sns.color_palette('pastel'),  \n",
    ")\n",
    "plt.ylabel('Count')\n",
    "plt.xlabel('Obesity Levels')  \n",
    "plt.title('Distribution of Obesity Levels') \n",
    "plt.show()"
   ]
  },
  {
   "cell_type": "code",
   "execution_count": null,
   "id": "736d3dc2-eece-4dd5-96d3-7489bab65de8",
   "metadata": {},
   "outputs": [],
   "source": [
    "caec_mapping = {\n",
    "    'Sometimes': 1,\n",
    "    'Frequently': 1,\n",
    "    'Always' : 2,\n",
    "    'no' : 0}\n",
    "cat['caec'].replace(caec_mapping, inplace=True)\n",
    "frequency_table= cat.caec.value_counts()\n",
    "print(frequency_table)\n",
    "\n",
    "sns.countplot(\n",
    "    x='caec',\n",
    "    data=cat,                       \n",
    "    palette=sns.color_palette('pastel'),  \n",
    ")\n",
    "plt.ylabel('Count')\n",
    "plt.xlabel('Do you eat any food between meals?')  \n",
    "plt.show()"
   ]
  },
  {
   "cell_type": "code",
   "execution_count": null,
   "id": "a3464225-2194-4b23-81b8-36bc19de9095",
   "metadata": {},
   "outputs": [],
   "source": [
    "#We are going to create a mapping for the calc column in order to have: no = 0, Sometimes = 1 and Always= 2.\n",
    "calc_mapping = {\n",
    "    'Sometimes': 1,\n",
    "    'Frequently': 1,\n",
    "    'Always' : 2,\n",
    "    'no' : 0}\n",
    "cat['calc'].replace(calc_mapping, inplace=True)\n",
    "frequency_table= cat.calc.value_counts()\n",
    "print(frequency_table)\n",
    "\n",
    "sns.countplot(\n",
    "    x='calc',\n",
    "    data=cat,                       \n",
    "    palette=sns.color_palette('pastel'),  \n",
    ")\n",
    "plt.ylabel('Count')\n",
    "plt.xlabel('How often do you drink alcohol?')  \n",
    "plt.show()"
   ]
  },
  {
   "cell_type": "code",
   "execution_count": null,
   "id": "f8d0232e-b083-461b-8e37-25b42ecc1698",
   "metadata": {},
   "outputs": [],
   "source": [
    "mtrans_mapping = {\n",
    "    'Public_Transportation': 0,\n",
    "    'Automobile': 0,\n",
    "    'Motorbike' : 0,\n",
    "    'Walking' : 1,\n",
    "    'Bike' : 2}\n",
    "cat['mtrans'].replace(mtrans_mapping, inplace=True)\n",
    "frequency_table= cat.mtrans.value_counts()\n",
    "print(frequency_table)\n",
    "\n",
    "sns.countplot(\n",
    "    x='mtrans',\n",
    "    data=cat,                       \n",
    "    palette=sns.color_palette('pastel'),  \n",
    ")\n",
    "plt.ylabel('Count')\n",
    "plt.xlabel('Which transportation do you usually use?')  \n",
    "plt.show()"
   ]
  },
  {
   "cell_type": "code",
   "execution_count": null,
   "id": "bbb64ced-fab0-4115-9467-7108fe940147",
   "metadata": {},
   "outputs": [],
   "source": [
    "gender_mapping = {\n",
    "    'Female': 0,\n",
    "    'Male': 1}\n",
    "cat['gender'].replace(gender_mapping, inplace=True)\n",
    "frequency_table= cat.gender.value_counts()\n",
    "print(frequency_table)\n",
    "\n",
    "sns.countplot(\n",
    "    x='gender',\n",
    "    data=cat,                       \n",
    "    palette=sns.color_palette('pastel'),  \n",
    ")\n",
    "plt.ylabel('Count')\n",
    "plt.xlabel('Gender')  \n",
    "plt.show()"
   ]
  },
  {
   "cell_type": "code",
   "execution_count": null,
   "id": "952d19df-6cf3-4589-8f34-8b77189425a5",
   "metadata": {},
   "outputs": [],
   "source": [
    "family_mapping = {\n",
    "    'no': 0,\n",
    "    'yes': 1}\n",
    "cat['family_history_with_overweight'].replace(family_mapping, inplace=True)\n",
    "frequency_table= cat.family_history_with_overweight.value_counts()\n",
    "print(frequency_table)\n",
    "\n",
    "sns.countplot(\n",
    "    x='family_history_with_overweight',\n",
    "    data=cat,                       \n",
    "    palette=sns.color_palette('pastel'),  \n",
    ")\n",
    "plt.ylabel('Count')\n",
    "plt.xlabel('Family history with overweight?')  \n",
    "plt.show()\n"
   ]
  },
  {
   "cell_type": "code",
   "execution_count": null,
   "id": "b720e6d8-43f3-40ff-a8a0-347b8fd1fa81",
   "metadata": {},
   "outputs": [],
   "source": [
    "favc_mapping = {\n",
    "    'no': 0,\n",
    "    'yes': 1}\n",
    "cat['favc'].replace(favc_mapping, inplace=True)\n",
    "frequency_table= cat.favc.value_counts()\n",
    "print(frequency_table)\n",
    "\n",
    "sns.countplot(\n",
    "    x='favc',\n",
    "    data=cat,                       \n",
    "    palette=sns.color_palette('pastel'),  \n",
    ")\n",
    "plt.ylabel('Count')\n",
    "plt.xlabel('Do you eat high caloric food frequently?')  \n",
    "plt.show()"
   ]
  },
  {
   "cell_type": "code",
   "execution_count": null,
   "id": "b1347137-5d73-437c-a11b-4db9403a5807",
   "metadata": {},
   "outputs": [],
   "source": [
    "smoke_mapping = {\n",
    "    'no': 0,\n",
    "    'yes': 1}\n",
    "cat['smoke'].replace(smoke_mapping, inplace=True)\n",
    "frequency_table= cat.smoke.value_counts()\n",
    "print(frequency_table)\n",
    "\n",
    "sns.countplot(\n",
    "    x='smoke',\n",
    "    data=cat,                       \n",
    "    palette=sns.color_palette('pastel'),  \n",
    ")\n",
    "plt.ylabel('Count')\n",
    "plt.xlabel('Do you smoke?')  \n",
    "plt.show()"
   ]
  },
  {
   "cell_type": "code",
   "execution_count": null,
   "id": "1b95d67e-e757-4407-992e-30c29f613de2",
   "metadata": {},
   "outputs": [],
   "source": [
    "scc_mapping = {\n",
    "    'no': 0,\n",
    "    'yes': 1}\n",
    "cat['scc'].replace(scc_mapping, inplace=True)\n",
    "frequency_table= cat.scc.value_counts()\n",
    "print(frequency_table)\n",
    "\n",
    "sns.countplot(\n",
    "    x='smoke',\n",
    "    data=cat,                       \n",
    "    palette=sns.color_palette('pastel'),  \n",
    ")\n",
    "plt.ylabel('Count')\n",
    "plt.xlabel('Do you monitor the calories you eat daily?')  \n",
    "plt.show()"
   ]
  },
  {
   "cell_type": "markdown",
   "id": "91e25d31-dc51-435e-be65-219dff0deb2e",
   "metadata": {
    "jp-MarkdownHeadingCollapsed": true
   },
   "source": [
    "<h3 style=\"color: #f3b5b5;\">Numerical</h3>"
   ]
  },
  {
   "cell_type": "markdown",
   "id": "9156a8ca-f156-4982-bf65-f3d9fe5d7d35",
   "metadata": {},
   "source": [
    "<h4 style=\"color: #f3b5b5;\">Describe of the numerical variables</h4>"
   ]
  },
  {
   "cell_type": "code",
   "execution_count": null,
   "id": "10b22cc4-9a6f-46d9-a72c-870df84e9bdb",
   "metadata": {},
   "outputs": [],
   "source": [
    "num.describe().T"
   ]
  },
  {
   "cell_type": "markdown",
   "id": "e9d58a36-b591-4f34-ae79-277c96fd11d2",
   "metadata": {},
   "source": [
    "As we can see in the table above, the column weight has the highest mean, with a minimum weight is 39 and a maximum weight is 173."
   ]
  },
  {
   "cell_type": "markdown",
   "id": "ce77ce42-f393-4bfd-ba0a-f3637bcecb86",
   "metadata": {
    "jp-MarkdownHeadingCollapsed": true
   },
   "source": [
    "<h4 style=\"color: #f3b5b5;\">Distribution of the numerical variables</h4>"
   ]
  },
  {
   "cell_type": "code",
   "execution_count": null,
   "id": "0d76a76b-8510-4cc1-8d85-3f0ac7c17f14",
   "metadata": {},
   "outputs": [],
   "source": [
    "color = '#F08080'\n",
    "\n",
    "# grid size\n",
    "nrows, ncols = 5, 4  # adjust for your number of features\n",
    "\n",
    "fig, axes = plt.subplots(nrows=nrows, ncols=ncols, figsize=(20, 16))\n",
    "\n",
    "axes = axes.flatten()\n",
    "\n",
    "# Plot each numerical feature\n",
    "for i, ax in enumerate(axes):\n",
    "    if i >= len(num.columns):\n",
    "        ax.set_visible(False)  # hide unesed plots\n",
    "        continue\n",
    "    ax.hist(num.iloc[:, i], bins=30, color=color, edgecolor='black')\n",
    "    ax.set_title(num.columns[i])\n",
    "\n",
    "plt.tight_layout()\n",
    "plt.show()"
   ]
  },
  {
   "cell_type": "markdown",
   "id": "ac144f7f-2f86-4743-b8d2-a162f1656013",
   "metadata": {
    "jp-MarkdownHeadingCollapsed": true
   },
   "source": [
    "<h4 style=\"color: #f3b5b5;\">Outliers</h4>"
   ]
  },
  {
   "cell_type": "code",
   "execution_count": null,
   "id": "3cdff54d-b26d-4cab-8bc5-5456a0669ced",
   "metadata": {},
   "outputs": [],
   "source": [
    "color = '#F08080'\n",
    "\n",
    "# grid size\n",
    "nrows, ncols = 5, 4 \n",
    "\n",
    "fig, axes = plt.subplots(nrows=nrows, ncols=ncols, figsize=(20, 16))\n",
    "\n",
    "axes = axes.flatten()\n",
    "\n",
    "for i, ax in enumerate(axes):\n",
    "    if i >= len(num.columns):  # Asegúrate de usar num en lugar de df\n",
    "        ax.set_visible(False)\n",
    "        continue\n",
    "    ax.boxplot(num.iloc[:, i].dropna(), vert=False, patch_artist=True,  # Cambia df a num aquí\n",
    "               boxprops=dict(facecolor=color, color='black'), \n",
    "               medianprops=dict(color='yellow'), whiskerprops=dict(color='black'), \n",
    "               capprops=dict(color='black'), flierprops=dict(marker='o', color='red', markersize=5))\n",
    "    ax.set_title(num.columns[i], fontsize=10)\n",
    "    ax.tick_params(axis='x', labelsize=8)\n",
    "\n",
    "plt.tight_layout()\n",
    "plt.show()\n"
   ]
  },
  {
   "cell_type": "markdown",
   "id": "5a61158d-dbe3-4ff1-9164-580b1069a359",
   "metadata": {
    "jp-MarkdownHeadingCollapsed": true
   },
   "source": [
    "<h2 style=\"color: #FFA07A;\">Bivariable</h2>"
   ]
  },
  {
   "cell_type": "markdown",
   "id": "45fd1eea-1984-4969-9f23-8fbbbbadda2f",
   "metadata": {},
   "source": [
    "Categorical: gender, caec, calc, mtrans, nobeyesdad.\n",
    "\n",
    "\n",
    "Numerical Continuous: age, height, ncp, weight, ch2o, faf"
   ]
  },
  {
   "cell_type": "markdown",
   "id": "dc04a8a2-f38d-4db2-a205-b2b560e2596d",
   "metadata": {
    "jp-MarkdownHeadingCollapsed": true
   },
   "source": [
    "<h3 style=\"color: #f3b5b5;\">Categorical VS Continuous</h3>\n"
   ]
  },
  {
   "cell_type": "code",
   "execution_count": null,
   "id": "f1c20fe3-0584-4429-98db-e9c9a79678a2",
   "metadata": {},
   "outputs": [],
   "source": [
    "#Correlation with our target.\n",
    "round(num.corrwith(cat[\"nobeyesdad\"]).sort_values(ascending=False),2)"
   ]
  },
  {
   "cell_type": "markdown",
   "id": "d810577b-9d45-4123-baa9-2f695e1bfc26",
   "metadata": {},
   "source": [
    "As we can see, weight and vegetable intake at meals is actually correlated with our target, something that makes sense if we are looking at obesity levels."
   ]
  },
  {
   "cell_type": "code",
   "execution_count": null,
   "id": "57db38e0-de0d-4fa4-afe6-d0dc4bc3ceef",
   "metadata": {},
   "outputs": [],
   "source": [
    "#nobeyesdad vs Age\n",
    "sns.boxplot(data=df, x=\"nobeyesdad\", y=\"age\", palette=sns.color_palette('pastel'))\n",
    "plt.xticks(rotation = 90)\n",
    "plt.show()"
   ]
  },
  {
   "cell_type": "code",
   "execution_count": null,
   "id": "4e8aff96-9c1d-4f3b-aa68-b24303ed0217",
   "metadata": {},
   "outputs": [],
   "source": [
    "#nobeyesdad vs Height\n",
    "sns.boxplot(data=df, x=\"nobeyesdad\", y=\"height\", palette=sns.color_palette('pastel'))\n",
    "plt.xticks(rotation = 90)\n",
    "plt.show()"
   ]
  },
  {
   "cell_type": "code",
   "execution_count": null,
   "id": "7abb8904-016b-4733-974e-bc798518f218",
   "metadata": {},
   "outputs": [],
   "source": [
    "#nobeyesdad vs Height\n",
    "sns.boxplot(data=df, x=\"nobeyesdad\", y=\"ncp\", palette=sns.color_palette('pastel'))\n",
    "plt.xticks(rotation = 90)\n",
    "plt.show()"
   ]
  },
  {
   "cell_type": "code",
   "execution_count": null,
   "id": "a6335b19-660e-4a18-be20-ec5bd1954847",
   "metadata": {},
   "outputs": [],
   "source": [
    "#nobeyesdad vs weight\n",
    "sns.barplot(data=df, x=\"nobeyesdad\", y=\"weight\", palette=sns.color_palette('pastel'))\n",
    "plt.xticks(rotation = 90)\n",
    "plt.show()"
   ]
  },
  {
   "cell_type": "code",
   "execution_count": null,
   "id": "049ee0f0-d28d-4d1e-94d2-7a5dc6f8a530",
   "metadata": {},
   "outputs": [],
   "source": [
    "#nobeyesdad vs ch2o\n",
    "sns.violinplot(data=df, x=\"nobeyesdad\", y=\"ch2o\", palette=sns.color_palette('pastel'))\n",
    "plt.xticks(rotation = 90)\n",
    "plt.show()"
   ]
  },
  {
   "cell_type": "code",
   "execution_count": null,
   "id": "22066947-78af-4b52-aea4-a5abbfe9581c",
   "metadata": {},
   "outputs": [],
   "source": [
    "#obeyesdad vs faf\n",
    "sns.barplot(data=df, x=\"nobeyesdad\", y=\"faf\", palette=sns.color_palette('pastel'))\n",
    "plt.xticks(rotation = 90)\n",
    "plt.show()"
   ]
  },
  {
   "cell_type": "markdown",
   "id": "271a0d96-46f8-410f-9b88-507b232cd718",
   "metadata": {
    "jp-MarkdownHeadingCollapsed": true
   },
   "source": [
    "<h3 style=\"color: #f3b5b5;\">Continuous VS Continuous</h3>"
   ]
  },
  {
   "cell_type": "code",
   "execution_count": null,
   "id": "ae643338-32cf-4087-b77f-0056855d83f8",
   "metadata": {},
   "outputs": [],
   "source": [
    "# Calculating the Spearman correlation coefficient between 'weight' and the numerical columns\n",
    "spearman_correlations_sorted = num.corrwith(df['weight'], method='spearman').sort_values(ascending=False) # positive ones\n",
    "spearman_correlations_sorted"
   ]
  },
  {
   "cell_type": "markdown",
   "id": "87fe7b18-a344-4ddf-88c5-478358006e6b",
   "metadata": {},
   "source": [
    "The Spearman correlation of (0..46) indicates a  positive monotonic relationship between the two variables. This means that when one variable increases, the other also tends to increase, but not necessarily at a constant rate."
   ]
  },
  {
   "cell_type": "code",
   "execution_count": null,
   "id": "f4730c9c-27c0-45e9-bcd1-af5f74e18338",
   "metadata": {},
   "outputs": [],
   "source": [
    "# Calculating the Pearson correlation coefficient between 'weight' and the numerical columns\n",
    "pearson_correlations_sorted = num.corrwith(df['weight'], method='pearson').sort_values(ascending=False) # positive ones\n",
    "pearson_correlations_sorted"
   ]
  },
  {
   "cell_type": "markdown",
   "id": "8ac34c22-ccc0-415e-99ab-266fa4e8e7b7",
   "metadata": {},
   "source": [
    "The Pearson correlation of (0.46) suggests a  positive linear relationship between the weigh and height. "
   ]
  },
  {
   "cell_type": "code",
   "execution_count": null,
   "id": "61224ee7-5bd1-477c-a327-c59da96280bf",
   "metadata": {},
   "outputs": [],
   "source": [
    "num_corr = round(num.corr(), 2)\n",
    "\n",
    "mask = np.zeros_like(num_corr)\n",
    "mask[np.triu_indices_from(mask)] = True # optional, to hide repeat half of the matrix\n",
    "\n",
    "f, ax = plt.subplots(figsize=(25, 15))\n",
    "sns.set(font_scale=1.5) # increase font size\n",
    "\n",
    "ax = sns.heatmap(num_corr, mask=mask, annot=True, annot_kws={\"size\": 12}, linewidths=.5, cmap=\"coolwarm\", fmt=\".2f\", ax=ax) # round to 2 decimal places\n",
    "ax.set_title(\"Dealing with Multicollinearity\", fontsize=20) # add title\n",
    "plt.show()"
   ]
  },
  {
   "cell_type": "code",
   "execution_count": null,
   "id": "6cdc259f-26a4-4321-8e61-7bb06f805c25",
   "metadata": {},
   "outputs": [],
   "source": [
    "# Plotting scatter plots for each numerical column against 'weight' to visualize their relationships\n",
    "for col in num.columns:\n",
    "    plt.figure(figsize=(5, 5))\n",
    "    plt.title('Scatter plot of SalePrice vs ' + col)\n",
    "    sns.scatterplot(data=df, x=col, y='weight')\n",
    "    plt.show()"
   ]
  },
  {
   "cell_type": "code",
   "execution_count": null,
   "id": "6b7104f4-47de-4455-a54f-79ae26afc2e1",
   "metadata": {
    "scrolled": true
   },
   "outputs": [],
   "source": [
    "import statsmodels.api as sm\n",
    "\n",
    "# Generating a Q-Q plot for 'weight' to check if its distribution follows a normal distribution\n",
    "sm.qqplot(df['weight'], line='s');\n",
    "plt.show()"
   ]
  },
  {
   "cell_type": "markdown",
   "id": "bd3eb8c5-df93-41ef-b902-1468834963f5",
   "metadata": {},
   "source": [
    "We can conclude that weight follows a normal distribution."
   ]
  },
  {
   "cell_type": "markdown",
   "id": "39bc1eb0-f059-4fff-9c0e-ae5c468c1a76",
   "metadata": {},
   "source": [
    "If we want to eliminate the collinearity, we should remove the column `weight` or `height`. However, in this case, we will keep both columns because the columns with the highest correlation with our target are:\n",
    "\n",
    "- **weight**: 0.18  \n",
    "- **fcvc**: 0.16  \n",
    "- **ncp**: 0.10  \n",
    "- **height**: 0.09"
   ]
  },
  {
   "cell_type": "markdown",
   "id": "71186c59-c41a-45ad-b06a-de271814ecae",
   "metadata": {
    "jp-MarkdownHeadingCollapsed": true
   },
   "source": [
    "<h2 style=\"color: #FFA07A;\">Concat of the cat and num df</h2>"
   ]
  },
  {
   "cell_type": "code",
   "execution_count": null,
   "id": "2911ed80-effa-4000-826c-436f2ca58db1",
   "metadata": {},
   "outputs": [],
   "source": [
    "#We reset the index in both df in order to merger them with the column index in common.\n",
    "num.reset_index(inplace=True)\n",
    "cat.reset_index(inplace=True)"
   ]
  },
  {
   "cell_type": "code",
   "execution_count": null,
   "id": "429dfaa3-a401-4dea-93e0-7e5c975222c5",
   "metadata": {},
   "outputs": [],
   "source": [
    "df_final = cat.merge(num, on = [\"index\"],how=\"inner\")\n",
    "df_final.shape"
   ]
  },
  {
   "cell_type": "code",
   "execution_count": null,
   "id": "24002133-66c2-49f6-9d28-a494934e2709",
   "metadata": {},
   "outputs": [],
   "source": [
    "#We need to delete the column index for our model.\n",
    "df_final.drop(columns = \"index\", inplace =True)"
   ]
  },
  {
   "cell_type": "code",
   "execution_count": null,
   "id": "0442c310-afc7-490f-b029-5bcd7ff4a61b",
   "metadata": {},
   "outputs": [],
   "source": [
    "df_final.info()"
   ]
  },
  {
   "cell_type": "code",
   "execution_count": null,
   "id": "89baa38a-68c5-4a7c-a198-14b9afc25d2d",
   "metadata": {},
   "outputs": [],
   "source": [
    "df_final.head()"
   ]
  },
  {
   "cell_type": "markdown",
   "id": "c33e7064-1039-46dd-a793-dd2aec83fe4c",
   "metadata": {
    "jp-MarkdownHeadingCollapsed": true
   },
   "source": [
    "<h1 style=\"color: #F08080;\">05. Hypotesis Testing </h1>"
   ]
  },
  {
   "cell_type": "markdown",
   "id": "0c1c3168-ed78-477a-a9e7-80330db6d0c8",
   "metadata": {},
   "source": [
    "Somethings to remember:\n",
    "If p-value < alpha → WE REJECT H0\n",
    "\r\n"
   ]
  },
  {
   "cell_type": "markdown",
   "id": "64c0f17b-d73a-4d8d-920a-f7936a9cbd92",
   "metadata": {
    "jp-MarkdownHeadingCollapsed": true
   },
   "source": [
    "<h2 style=\"color: #FFA07A;\">Hypothesis 1: The mean number of women with obesity is higher than  the mean number of men with obesity.</h2>\n"
   ]
  },
  {
   "cell_type": "markdown",
   "id": "e71ecc1b-15a5-4279-aabc-7e802f5e059c",
   "metadata": {},
   "source": [
    "H₀:The mean obesity rate in women is higher than the average obesity of men.\n",
    "\n",
    "​H₁:The mean obesity rate in women is lower than the average obesity of men.\n",
    "\n",
    "​\n"
   ]
  },
  {
   "cell_type": "code",
   "execution_count": null,
   "id": "f6d7d000-bf11-42b4-931a-8f3dd6211232",
   "metadata": {},
   "outputs": [],
   "source": [
    "alpha = 0.05\n",
    "\n",
    "woman_obesity = df_final[(df_final['gender'] == 0) & (df_final['nobeyesdad'] == 2)]['weight']\n",
    "man_obesity = df_final[(df_final['gender'] == 1) & (df_final['nobeyesdad'] == 2)]['weight']\n",
    "\n",
    "t_stat, p_value = ttest_ind(woman_obesity, man_obesity, alternative='less')\n",
    "\n",
    "print(f\"T-statistic: {t_stat}, P-value: {p_value}\")\n",
    "\n",
    "\n",
    "if p_value > alpha:\n",
    "    print(\"Fail to Reject the Null Hypothesis\")\n",
    "else:\n",
    "    print(\"Reject the Null Hypothesis\")"
   ]
  },
  {
   "cell_type": "code",
   "execution_count": null,
   "id": "1b19b756-3b0c-450c-81ce-4e4ed3352b14",
   "metadata": {},
   "outputs": [],
   "source": [
    "woman_obesity.mean()"
   ]
  },
  {
   "cell_type": "code",
   "execution_count": null,
   "id": "44dc5b14-a880-48a4-8d1b-184e2befff84",
   "metadata": {},
   "outputs": [],
   "source": [
    "man_obesity.mean()"
   ]
  },
  {
   "cell_type": "markdown",
   "id": "b4959b6f-5c09-4c8e-82be-a578787cf8c0",
   "metadata": {
    "jp-MarkdownHeadingCollapsed": true
   },
   "source": [
    "<h2 style=\"color: #FFA07A;\">Hypothesis 2: Men uses motor transportations more than women.</h2>\n"
   ]
  },
  {
   "cell_type": "markdown",
   "id": "003f9c45-5681-425a-b50e-4b69279bae6b",
   "metadata": {},
   "source": [
    "H₀: The average use of car by men is higer than the average use of car by women.\n",
    "\n",
    "​H₁: The average use of car by men is lesser than the average use of car by women."
   ]
  },
  {
   "cell_type": "code",
   "execution_count": null,
   "id": "d3c46ca2-7eac-4a84-aad3-979e16d709f5",
   "metadata": {},
   "outputs": [],
   "source": [
    "#We use the weight column because it need a numerical column to calculate the mean. \n",
    "\n",
    "alpha = 0.05\n",
    "\n",
    "woman_car = df_final[(df_final['gender'] == 0) & (df_final['mtrans'] == 0)]['weight']\n",
    "man_car = df_final[(df_final['gender'] == 1) & (df_final['mtrans'] == 0)]['weight']\n",
    "\n",
    "t_stat, p_value = ttest_ind(man_car, woman_car, alternative='less')\n",
    "\n",
    "print(f\"T-statistic: {t_stat}, P-value: {p_value}\")\n",
    "\n",
    "\n",
    "if p_value > alpha:\n",
    "    print(\"Fail to Reject the Null Hypothesis\")\n",
    "else:\n",
    "    print(\"Reject the Null Hypothesis\")\n"
   ]
  },
  {
   "cell_type": "code",
   "execution_count": null,
   "id": "5894e7a2-9dac-478f-956d-9e7c7d9fb6bc",
   "metadata": {},
   "outputs": [],
   "source": [
    "woman_car.mean()"
   ]
  },
  {
   "cell_type": "code",
   "execution_count": null,
   "id": "191ac0ee-ca14-4692-ad6e-804876c9efc5",
   "metadata": {},
   "outputs": [],
   "source": [
    "man_car.mean()"
   ]
  },
  {
   "cell_type": "markdown",
   "id": "282f39d6-d88b-4fff-8e81-07647ae81076",
   "metadata": {
    "jp-MarkdownHeadingCollapsed": true
   },
   "source": [
    "<h2 style=\"color: #FFA07A;\">Hypothesis 3: There are more woman with family members that have overweight history than men</h2>\n"
   ]
  },
  {
   "cell_type": "markdown",
   "id": "44e0ee77-80c6-45a1-b891-3c1ffaa065a1",
   "metadata": {},
   "source": [
    "H₀: There are more women than men with a family history of overweight.\n",
    "\n",
    "​H₁: There are less women than men with a family history of overweight."
   ]
  },
  {
   "cell_type": "code",
   "execution_count": null,
   "id": "d1680658-91ca-49fd-b234-d4e1aff7f213",
   "metadata": {},
   "outputs": [],
   "source": [
    "alpha = .05\n",
    "\n",
    "woman_family = df_final[(df_final['gender'] == 0) & (df_final['family_history_with_overweight'] == 1)]['weight']\n",
    "man_family = df_final[(df_final['gender'] == 1) & (df_final['family_history_with_overweight'] == 1)]['weight']\n",
    "\n",
    "t_stat, p_value = ttest_ind(woman_family, man_family, alternative='less')\n",
    "\n",
    "print(f\"T-statistic: {t_stat}, P-value: {p_value}\")\n",
    "\n",
    "\n",
    "if p_value > alpha:\n",
    "    print(\"Fail to Reject the Null Hypothesis\")\n",
    "else:\n",
    "    print(\"Reject the Null Hypothesis\")"
   ]
  },
  {
   "cell_type": "code",
   "execution_count": null,
   "id": "73e7ab80-a15d-4433-8e59-1aba25a167be",
   "metadata": {},
   "outputs": [],
   "source": [
    "woman_family.mean()"
   ]
  },
  {
   "cell_type": "code",
   "execution_count": null,
   "id": "85443d76-0069-4e33-83d8-5df3f8c23bb7",
   "metadata": {},
   "outputs": [],
   "source": [
    "man_family.mean()"
   ]
  },
  {
   "cell_type": "code",
   "execution_count": null,
   "id": "ec0ac9a0-5fbb-49b4-aa7b-2ce651e25e16",
   "metadata": {},
   "outputs": [],
   "source": []
  }
 ],
 "metadata": {
  "kernelspec": {
   "display_name": "Python 3 (ipykernel)",
   "language": "python",
   "name": "python3"
  },
  "language_info": {
   "codemirror_mode": {
    "name": "ipython",
    "version": 3
   },
   "file_extension": ".py",
   "mimetype": "text/x-python",
   "name": "python",
   "nbconvert_exporter": "python",
   "pygments_lexer": "ipython3",
   "version": "3.12.4"
  }
 },
 "nbformat": 4,
 "nbformat_minor": 5
}
