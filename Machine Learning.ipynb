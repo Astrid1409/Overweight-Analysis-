{
 "cells": [
  {
   "cell_type": "markdown",
   "id": "bae6f4e8-89da-4a16-97c5-a054a0680941",
   "metadata": {
    "jp-MarkdownHeadingCollapsed": true
   },
   "source": [
    "<h1 style=\"color: #f73779\t;\"> Estimation_of_Obesity_Levels </h1>"
   ]
  },
  {
   "cell_type": "markdown",
   "id": "d9a975e3-4ee8-47e6-95a3-4bb5a0c9de14",
   "metadata": {
    "jp-MarkdownHeadingCollapsed": true
   },
   "source": [
    "<h1 style=\"color: #F08080\t;\">00. Libraries </h1>"
   ]
  },
  {
   "cell_type": "code",
   "execution_count": null,
   "id": "60e22663-36e0-4fba-bde2-3591016f4ff3",
   "metadata": {},
   "outputs": [],
   "source": [
    "# 📚 Basic Libraries\n",
    "import pandas as pd\n",
    "import numpy as np\n",
    "import warnings # nobody likes warnings\n",
    "\n",
    "# 📊 Visualizations\n",
    "import matplotlib.pyplot as plt\n",
    "import seaborn as sns\n",
    "import plotly.express as px\n",
    "import plotly.graph_objects as go\n",
    "\n",
    "# 🤖 Machine Learning\n",
    "from sklearn.model_selection import train_test_split\n",
    "from sklearn.metrics import cohen_kappa_score\n",
    "from sklearn.linear_model import LinearRegression\n",
    "from sklearn.metrics import r2_score, mean_squared_error, mean_absolute_error\n",
    "from sklearn.model_selection import train_test_split\n",
    "from sklearn.linear_model import LogisticRegression #esta es nueva\n",
    "from sklearn.metrics import roc_curve, confusion_matrix, ConfusionMatrixDisplay #esta es nueva, me da el mapita de calor de roc curve\n",
    "from sklearn.metrics import classification_report #esta es nueva, esta me va a decir todo el reporte\n",
    "from sklearn.preprocessing import StandardScaler\n",
    "from lazypredict.Supervised import LazyClassifier, LazyRegressor\n",
    "from sklearn.model_selection import train_test_split\n",
    "from sklearn import datasets"
   ]
  },
  {
   "cell_type": "code",
   "execution_count": null,
   "id": "c635239c-ddf0-4f8d-8d33-777294cd647d",
   "metadata": {},
   "outputs": [],
   "source": [
    "# ⚙️ Settings\n",
    "pd.set_option('display.max_columns', None) # display all columns\n",
    "warnings.filterwarnings('ignore') # ignore warnings"
   ]
  },
  {
   "cell_type": "markdown",
   "id": "f971084b-4c69-43e9-bf0e-c11ba3d9f090",
   "metadata": {
    "jp-MarkdownHeadingCollapsed": true
   },
   "source": [
    "<h1 style=\"color: #F08080;\">01. Data Documentation </h1>"
   ]
  },
  {
   "cell_type": "markdown",
   "id": "a7990754-acbc-4daa-996a-647aa0ed2c42",
   "metadata": {},
   "source": [
    "| **Variable Name**               | **Role**   | **Type**       | **Demographic** | **Description**                                                                     | **Units** | **Missing Values** |\n",
    "|----------------------------------|------------|----------------|------------------|-------------------------------------------------------------------------------------|-----------|---------------------|\n",
    "| `Gender`                        | Feature    | Categorical    | Gender           |                                                                                     |           | no                  |\n",
    "| `Age`                           | Feature    | Continuous     | Age              |                                                                                     |           | no                  |\n",
    "| `Height`                        | Feature    | Continuous     |                  |                                                                                     |           | no                  |\n",
    "| `Weight`                        | Feature    | Continuous     |                  |                                                                                     |           | no                  |\n",
    "| `family_history_with_overweight`| Feature    | Binary         |                  | Has a family member suffered or suffers from overweight?                           |           | no                  |\n",
    "| `FAVC`                          | Feature    | Binary         |                  | Do you eat high caloric food frequently?                                           |           | no                  |\n",
    "| `FCVC`                          | Feature    | Integer        |                  | Do you usually eat vegetables in your meals?                                       |           | no                  |\n",
    "| `NCP`                           | Feature    | Continuous     |                  | How many main meals do you have daily?                                             |           | no                  |\n",
    "| `CAEC`                          | Feature    | Categorical    |                  | Do you eat any food between meals?                                                 |           | no                  |\n",
    "| `SMOKE`                         | Feature    | Binary         |                  | Do you smoke?                                                                      |           | no                  |\n",
    "| `CH2O`                          | Feature    | Continuous     |                  | How much water do you drink daily?                                                 |           | no                  |\n",
    "| `SCC`                           | Feature    | Binary         |                  | Do you monitor the calories you eat daily?                                         |           | no                  |\n",
    "| `FAF`                           | Feature    | Continuous     |                  | How often do you have physical activity?                                           |           | no                  |\n",
    "| `TUE`                           | Feature    | Integer        |                  | How much time do you use technological devices such as cell phone, videogames, etc.|           | no                  |\n",
    "| `CALC`                          | Feature    | Categorical    |                  | How often do you drink alcohol?                                                    |           | no                  |\n",
    "| `MTRANS`                        | Feature    | Categorical    |                  | Which transportation do you usually use?                                           |           | no                  |\n",
    "| `NObeyesdad`                    | Target     | Categorical    |                  | Obesity level                                                                      |           | no                  |\n",
    "\n",
    "\n",
    "\n",
    "The target variable is `NObeyesdad`.\n"
   ]
  },
  {
   "cell_type": "markdown",
   "id": "c7fc0726-7f46-4864-aaec-9e6ca30fc7da",
   "metadata": {
    "jp-MarkdownHeadingCollapsed": true
   },
   "source": [
    "<h1 style=\"color: #F08080;\">02.  Data Extraction </h1>"
   ]
  },
  {
   "cell_type": "code",
   "execution_count": null,
   "id": "3e9d66cd-9923-4157-8432-e93a23ec2aea",
   "metadata": {},
   "outputs": [],
   "source": [
    "data = pd.read_csv(\"C:/Users/astri/Ironhack/second_proyect/ObesityDataSet_raw_and_data_sinthetic.csv\")"
   ]
  },
  {
   "cell_type": "code",
   "execution_count": null,
   "id": "b911ef84-90b1-4340-85e1-1e17fd7dddfa",
   "metadata": {},
   "outputs": [],
   "source": [
    "data"
   ]
  },
  {
   "cell_type": "code",
   "execution_count": null,
   "id": "12735c57-53a8-4dc8-8e96-0d3e99d12c3a",
   "metadata": {},
   "outputs": [],
   "source": [
    "data.columns"
   ]
  },
  {
   "cell_type": "markdown",
   "id": "8c4c3d75-8039-417b-b67b-d628f27d6080",
   "metadata": {
    "jp-MarkdownHeadingCollapsed": true
   },
   "source": [
    "<h2 style=\"color: #FFA07A;\">Columns standardization</h2>"
   ]
  },
  {
   "cell_type": "code",
   "execution_count": null,
   "id": "7a8568b9-7592-4bd8-ba7f-b15771f15e68",
   "metadata": {},
   "outputs": [],
   "source": [
    "data.columns = [column.lower().replace(\" \", \"_\") for column in data.columns]"
   ]
  },
  {
   "cell_type": "code",
   "execution_count": null,
   "id": "5854190c-6791-4347-9a3a-290bbe62b479",
   "metadata": {},
   "outputs": [],
   "source": [
    "data.columns = data.columns.str.lower().str.replace(\" \", \"_\")"
   ]
  },
  {
   "cell_type": "markdown",
   "id": "1ac07b09-69fc-4b30-9c82-4c197d0baf4c",
   "metadata": {
    "jp-MarkdownHeadingCollapsed": true
   },
   "source": [
    "<h2 style=\"color: #FFA07A;\">Exploring the Data </h2>"
   ]
  },
  {
   "cell_type": "code",
   "execution_count": null,
   "id": "2283af4a-3f0a-4fbb-a912-b25d359dc01e",
   "metadata": {},
   "outputs": [],
   "source": [
    "data.shape\n"
   ]
  },
  {
   "cell_type": "code",
   "execution_count": null,
   "id": "debd712d-c9b1-48dc-bd6b-8832da53e3dd",
   "metadata": {},
   "outputs": [],
   "source": [
    "data.info()"
   ]
  },
  {
   "cell_type": "code",
   "execution_count": null,
   "id": "7d03b811-209a-476c-9b38-9615f68be28d",
   "metadata": {},
   "outputs": [],
   "source": [
    "data[\"gender\"].value_counts()"
   ]
  },
  {
   "cell_type": "code",
   "execution_count": null,
   "id": "0e09f86d-8e67-40b0-90c2-15aa6f06cdaf",
   "metadata": {},
   "outputs": [],
   "source": [
    "data[\"family_history_with_overweight\"].value_counts()"
   ]
  },
  {
   "cell_type": "code",
   "execution_count": null,
   "id": "73dfa389-9567-4ad2-b968-65054faa784c",
   "metadata": {},
   "outputs": [],
   "source": [
    "data[\"favc\"].value_counts()"
   ]
  },
  {
   "cell_type": "code",
   "execution_count": null,
   "id": "ac44c69d-832d-4a09-831e-84a8e5175c4c",
   "metadata": {},
   "outputs": [],
   "source": [
    "data[\"caec\"].value_counts()"
   ]
  },
  {
   "cell_type": "code",
   "execution_count": null,
   "id": "52013737-0a43-4cc3-8d6f-4a0ada3e5d48",
   "metadata": {},
   "outputs": [],
   "source": [
    "data[\"calc\"].value_counts()"
   ]
  },
  {
   "cell_type": "code",
   "execution_count": null,
   "id": "cd6d5667-7f70-4a92-afb9-e7921b976d8e",
   "metadata": {},
   "outputs": [],
   "source": [
    "data[\"mtrans\"].value_counts()"
   ]
  },
  {
   "cell_type": "code",
   "execution_count": null,
   "id": "67f565a2-e3a6-48cb-b56e-33b4fba563c8",
   "metadata": {},
   "outputs": [],
   "source": [
    "data[\"nobeyesdad\"].value_counts()"
   ]
  },
  {
   "cell_type": "markdown",
   "id": "1ee8d710-b012-4969-969c-741b76366520",
   "metadata": {
    "jp-MarkdownHeadingCollapsed": true
   },
   "source": [
    "<h2 style=\"color: #FFA07A;\">Copy as best practices</h2>"
   ]
  },
  {
   "cell_type": "code",
   "execution_count": null,
   "id": "197cf3f4-f821-4578-8356-369c8ff4ba4e",
   "metadata": {},
   "outputs": [],
   "source": [
    "df = data.copy()"
   ]
  },
  {
   "cell_type": "markdown",
   "id": "f32cfcde-4108-4f49-9820-01ca1dbbe641",
   "metadata": {
    "jp-MarkdownHeadingCollapsed": true
   },
   "source": [
    "<h1 style=\"color: #F08080;\">03.  Data Cleaning </h1>"
   ]
  },
  {
   "cell_type": "markdown",
   "id": "ba4cb27d-72a1-48b2-ae3e-543c4dcc2f82",
   "metadata": {},
   "source": [
    "<h2 style=\"color: #FFA07A;\">Dealing with Duplicates, Nan and Empty Spaces</h2>"
   ]
  },
  {
   "cell_type": "code",
   "execution_count": null,
   "id": "4591c231-b966-44e1-bd07-80958b15f2e8",
   "metadata": {},
   "outputs": [],
   "source": [
    "#Duplicated data\n",
    "df.duplicated().sum()"
   ]
  },
  {
   "cell_type": "code",
   "execution_count": null,
   "id": "563ce6c8-c36d-4178-bd23-636694e351bb",
   "metadata": {},
   "outputs": [],
   "source": [
    "#Nan info\n",
    "df.isna().sum()"
   ]
  },
  {
   "cell_type": "code",
   "execution_count": null,
   "id": "b0a53a8b-6c5b-48e0-8e34-bb49942d7bb9",
   "metadata": {},
   "outputs": [],
   "source": [
    "#Empty spaces\n",
    "df.eq(' ').sum()"
   ]
  },
  {
   "cell_type": "markdown",
   "id": "8d0c606c-07cb-4702-847e-d2e3c081fb10",
   "metadata": {
    "jp-MarkdownHeadingCollapsed": true
   },
   "source": [
    "<h1 style=\"color: #F08080;\">04.  EDA </h1>"
   ]
  },
  {
   "cell_type": "markdown",
   "id": "e33b505c-f069-4b0d-b1bc-c8908a9017ad",
   "metadata": {},
   "source": [
    "<h2 style=\"color: #FFA07A;\">Checking unique values</h2>"
   ]
  },
  {
   "cell_type": "code",
   "execution_count": null,
   "id": "d9b889d3-3a84-45f6-8f64-dc0820f8a805",
   "metadata": {},
   "outputs": [],
   "source": [
    "df.nunique().sort_values(ascending=False)"
   ]
  },
  {
   "cell_type": "markdown",
   "id": "91e25d31-dc51-435e-be65-219dff0deb2e",
   "metadata": {},
   "source": [
    "<h2 style=\"color: #FFA07A;\">Descriptve Statistics</h2>"
   ]
  },
  {
   "cell_type": "code",
   "execution_count": null,
   "id": "10b22cc4-9a6f-46d9-a72c-870df84e9bdb",
   "metadata": {},
   "outputs": [],
   "source": [
    "df.describe().T"
   ]
  },
  {
   "cell_type": "markdown",
   "id": "e9d58a36-b591-4f34-ae79-277c96fd11d2",
   "metadata": {},
   "source": [
    "As we can see in the table above, the column weight has the highest mean, with a minimum value of 39 and a maximum value of 173."
   ]
  },
  {
   "cell_type": "markdown",
   "id": "f24232ec-3d25-4078-8557-bc945a090cbf",
   "metadata": {},
   "source": [
    "<h2 style=\"color: #FFA07A;\">Mapping our Target 'nobeyesdad'</h2>"
   ]
  },
  {
   "cell_type": "code",
   "execution_count": null,
   "id": "020fa6d4-b718-4a0c-a601-a4641f91605e",
   "metadata": {},
   "outputs": [],
   "source": [
    "df.nobeyesdad.unique()"
   ]
  },
  {
   "cell_type": "code",
   "execution_count": null,
   "id": "be7fe3bc-1a6a-46bd-a28f-e0af202c4db3",
   "metadata": {},
   "outputs": [],
   "source": [
    "#We want to have only 4: Normal_weight = 0, Overweight = 1, obesity =2, insufficient =3.\n",
    "mapping = {\"Normal_Weight\": 0, \n",
    "         \"Overweight_Level_I\": 1,\n",
    "         \"Overweight_Level_II\": 1,\n",
    "         \"Obesity_Type_I\": 2,\n",
    "         \"Obesity_Type_II\" : 2,\n",
    "         \"Obesity_Type_III\" : 2,\n",
    "         \"Insufficient_Weight\" : 3}\n",
    "df[\"nobeyesdad\"] = df[\"nobeyesdad\"].map(mapping)"
   ]
  },
  {
   "cell_type": "code",
   "execution_count": null,
   "id": "825f0d35-9021-4ae7-a31a-994ef3a9c0dc",
   "metadata": {},
   "outputs": [],
   "source": [
    "df.nobeyesdad.value_counts()"
   ]
  },
  {
   "cell_type": "code",
   "execution_count": null,
   "id": "e01f8620-6763-4175-800a-9665d4a58ed6",
   "metadata": {},
   "outputs": [],
   "source": [
    "sns.countplot(data=df, x=\"nobeyesdad\", palette=\"pastel\")\n",
    "plt.xlabel(\"Obesity type\")\n",
    "plt.title(\"Obesity Level\")"
   ]
  },
  {
   "cell_type": "markdown",
   "id": "617b4b0f-299f-4e41-ad0d-a1c33accae28",
   "metadata": {},
   "source": [
    "<h2 style=\"color: #FFA07A;\">Divide the Numerical from the Categorical features </h2>"
   ]
  },
  {
   "cell_type": "code",
   "execution_count": null,
   "id": "6b0d3871-f0ce-42c3-9e82-d32478b84789",
   "metadata": {},
   "outputs": [],
   "source": [
    "cat = df.select_dtypes(exclude=\"number\")\n",
    "num = df.select_dtypes(include=\"number\")"
   ]
  },
  {
   "cell_type": "code",
   "execution_count": null,
   "id": "f162d351-a216-4756-ad5a-608e732e399e",
   "metadata": {},
   "outputs": [],
   "source": [
    "cat.columns"
   ]
  },
  {
   "cell_type": "code",
   "execution_count": null,
   "id": "82f656dc-1191-41b1-b0e8-188eef9d3fe4",
   "metadata": {},
   "outputs": [],
   "source": [
    "num.columns"
   ]
  },
  {
   "cell_type": "markdown",
   "id": "b41479f6-5a9f-4aab-8db2-bdae606370e8",
   "metadata": {},
   "source": [
    "<h2 style=\"color: #FFA07A;\">Checking Distributions</h2>"
   ]
  },
  {
   "cell_type": "code",
   "execution_count": null,
   "id": "e5f6b67a-7948-44a7-9c60-673000069996",
   "metadata": {},
   "outputs": [],
   "source": [
    "color = '#F08080'\n",
    "\n",
    "# grid size\n",
    "nrows, ncols = 5, 4  # adjust for your number of features\n",
    "\n",
    "fig, axes = plt.subplots(nrows=nrows, ncols=ncols, figsize=(20, 16))\n",
    "\n",
    "axes = axes.flatten()\n",
    "\n",
    "# Plot each numerical feature\n",
    "for i, ax in enumerate(axes):\n",
    "    if i >= len(df.columns):\n",
    "        ax.set_visible(False)  # hide unesed plots\n",
    "        continue\n",
    "    ax.hist(df.iloc[:, i], bins=30, color=color, edgecolor='black')\n",
    "    ax.set_title(df.columns[i])\n",
    "\n",
    "plt.tight_layout()\n",
    "plt.show()"
   ]
  },
  {
   "cell_type": "markdown",
   "id": "49f9a815-854d-4023-b3d9-18ab96fa73ab",
   "metadata": {},
   "source": [
    "<h2 style=\"color: #FFA07A;\">Checking Outliers</h2>"
   ]
  },
  {
   "cell_type": "code",
   "execution_count": null,
   "id": "3cdff54d-b26d-4cab-8bc5-5456a0669ced",
   "metadata": {},
   "outputs": [],
   "source": [
    "color = '#F08080'\n",
    "\n",
    "# grid size\n",
    "nrows, ncols = 5, 4 \n",
    "\n",
    "fig, axes = plt.subplots(nrows=nrows, ncols=ncols, figsize=(20, 16))\n",
    "\n",
    "axes = axes.flatten()\n",
    "\n",
    "for i, ax in enumerate(axes):\n",
    "    if i >= len(num.columns):  # Asegúrate de usar num en lugar de df\n",
    "        ax.set_visible(False)\n",
    "        continue\n",
    "    ax.boxplot(num.iloc[:, i].dropna(), vert=False, patch_artist=True,  # Cambia df a num aquí\n",
    "               boxprops=dict(facecolor=color, color='black'), \n",
    "               medianprops=dict(color='yellow'), whiskerprops=dict(color='black'), \n",
    "               capprops=dict(color='black'), flierprops=dict(marker='o', color='red', markersize=5))\n",
    "    ax.set_title(num.columns[i], fontsize=10)\n",
    "    ax.tick_params(axis='x', labelsize=8)\n",
    "\n",
    "plt.tight_layout()\n",
    "plt.show()\n"
   ]
  },
  {
   "cell_type": "markdown",
   "id": "5f707172-fc49-42fb-9296-1d62d731f9ba",
   "metadata": {},
   "source": [
    "<h2 style=\"color: #FFA07A;\">Looking for Correlations</h2>"
   ]
  },
  {
   "cell_type": "code",
   "execution_count": null,
   "id": "ce92e6fb-c2c8-4414-b6cb-a5cc69f789ec",
   "metadata": {},
   "outputs": [],
   "source": [
    "#correlacion de todas con nuestro target (mira cada una a par con nuestro target)\n",
    "round(num.corrwith(num[\"nobeyesdad\"]).sort_values(ascending=False),2)"
   ]
  },
  {
   "cell_type": "markdown",
   "id": "eb5243cf-e147-4345-8dc1-55e249164b9a",
   "metadata": {},
   "source": [
    "As we can see, weight and vegetable intake at meals is actually correlated with our target, something that makes sense if we are looking at obesity levels.\n"
   ]
  },
  {
   "cell_type": "markdown",
   "id": "7070920c-36eb-4e28-9eec-314fd5151a10",
   "metadata": {},
   "source": [
    "<h2 style=\"color: #FFA07A;\">Dealing with Multicollinearity</h2>"
   ]
  },
  {
   "cell_type": "code",
   "execution_count": null,
   "id": "61224ee7-5bd1-477c-a327-c59da96280bf",
   "metadata": {},
   "outputs": [],
   "source": [
    "num_corr = round(num.corr(), 2)\n",
    "\n",
    "mask = np.zeros_like(num_corr)\n",
    "mask[np.triu_indices_from(mask)] = True # optional, to hide repeat half of the matrix\n",
    "\n",
    "f, ax = plt.subplots(figsize=(25, 15))\n",
    "sns.set(font_scale=1.5) # increase font size\n",
    "\n",
    "ax = sns.heatmap(num_corr, mask=mask, annot=True, annot_kws={\"size\": 12}, linewidths=.5, cmap=\"coolwarm\", fmt=\".2f\", ax=ax) # round to 2 decimal places\n",
    "ax.set_title(\"Dealing with Multicollinearity\", fontsize=20) # add title\n",
    "plt.show()"
   ]
  },
  {
   "cell_type": "markdown",
   "id": "39bc1eb0-f059-4fff-9c0e-ae5c468c1a76",
   "metadata": {},
   "source": [
    "If we want to eliminate the collinearity, we should remove the column `weight` or `height`. However, in this case, we will keep both columns because the columns with the highest correlation with our target are:\n",
    "\n",
    "- **weight**: 0.18  \n",
    "- **fcvc**: 0.16  \n",
    "- **ncp**: 0.10  \n",
    "- **height**: 0.09"
   ]
  },
  {
   "cell_type": "markdown",
   "id": "71186c59-c41a-45ad-b06a-de271814ecae",
   "metadata": {},
   "source": [
    "<h2 style=\"color: #FFA07A;\">Dealing with Categorical columns</h2>"
   ]
  },
  {
   "cell_type": "code",
   "execution_count": null,
   "id": "dda7452e-8024-4390-835e-2ad3c5436ac8",
   "metadata": {},
   "outputs": [],
   "source": [
    "#We need to see our categorical columns.\n",
    "cat.columns"
   ]
  },
  {
   "cell_type": "code",
   "execution_count": null,
   "id": "4bfb0a71-c210-4461-ab0b-70de2fb386eb",
   "metadata": {},
   "outputs": [],
   "source": [
    "#Let's create a mapping for the caec column to have: no = 0, Sometimes = 1 and Always= 2.\n",
    "#We always use 0 in the no option because it is less important than Always. \n",
    "\n",
    "caec_mapping = {\n",
    "    'Sometimes': 1,\n",
    "    'Frequently': 1,\n",
    "    'Always' : 2,\n",
    "    'no' : 0}\n",
    "cat['caec'].replace(caec_mapping, inplace=True)\n",
    "cat.caec.unique()"
   ]
  },
  {
   "cell_type": "code",
   "execution_count": null,
   "id": "85b91ba9-e27d-4389-bc29-79c07c2b6dc1",
   "metadata": {},
   "outputs": [],
   "source": [
    "#now we are going to review the calc column\n",
    "cat.calc.unique()"
   ]
  },
  {
   "cell_type": "code",
   "execution_count": null,
   "id": "c644a0ea-48ad-49b4-8eb9-fdec123c6c93",
   "metadata": {},
   "outputs": [],
   "source": [
    "#We are going to create a mapping for the calc column in order to have: no = 0, Sometimes = 1 and Always= 2.\n",
    "calc_mapping = {\n",
    "    'Sometimes': 1,\n",
    "    'Frequently': 1,\n",
    "    'Always' : 2,\n",
    "    'no' : 0}\n",
    "cat['calc'].replace(calc_mapping, inplace=True)\n",
    "cat.calc.unique()"
   ]
  },
  {
   "cell_type": "code",
   "execution_count": null,
   "id": "b306a40f-bf8a-4dc9-9900-dbf93d4ffc86",
   "metadata": {},
   "outputs": [],
   "source": [
    "#now we are going to review the mtrans column, we can group by effort. Public_Transportation,Automobile and Motorbike = 0\n",
    "#Walking = 1 and Bike = 2\n",
    "cat.mtrans.unique()"
   ]
  },
  {
   "cell_type": "code",
   "execution_count": null,
   "id": "19e44f99-0111-436a-bdbd-a90be0a6c472",
   "metadata": {},
   "outputs": [],
   "source": [
    "mtrans_mapping = {\n",
    "    'Public_Transportation': 0,\n",
    "    'Automobile': 0,\n",
    "    'Motorbike' : 0,\n",
    "    'Walking' : 1,\n",
    "    'Bike' : 2}\n",
    "cat['mtrans'].replace(mtrans_mapping, inplace=True)\n",
    "cat.mtrans.unique()"
   ]
  },
  {
   "cell_type": "code",
   "execution_count": null,
   "id": "04e6ffd6-16e9-4f0b-a6a9-a5cd274e6764",
   "metadata": {},
   "outputs": [],
   "source": [
    "gender_mapping = {\n",
    "    'Female': 0,\n",
    "    'Male': 1}\n",
    "cat['gender'].replace(gender_mapping, inplace=True)\n",
    "cat.gender.unique()"
   ]
  },
  {
   "cell_type": "code",
   "execution_count": null,
   "id": "f578a926-cc3c-46e4-b394-a9d7ef143e9d",
   "metadata": {},
   "outputs": [],
   "source": [
    "family_mapping = {\n",
    "    'no': 0,\n",
    "    'yes': 1}\n",
    "cat['family_history_with_overweight'].replace(family_mapping, inplace=True)\n",
    "cat.family_history_with_overweight.unique()\n"
   ]
  },
  {
   "cell_type": "code",
   "execution_count": null,
   "id": "b4757bde-4243-4d09-8946-37ee5e9f22cf",
   "metadata": {},
   "outputs": [],
   "source": [
    "favc_mapping = {\n",
    "    'no': 0,\n",
    "    'yes': 1}\n",
    "cat['favc'].replace(favc_mapping, inplace=True)\n",
    "cat.favc.unique()\n"
   ]
  },
  {
   "cell_type": "code",
   "execution_count": null,
   "id": "a554cb71-7531-400b-aa55-ebceb0289cf7",
   "metadata": {},
   "outputs": [],
   "source": [
    "smoke_mapping = {\n",
    "    'no': 0,\n",
    "    'yes': 1}\n",
    "cat['smoke'].replace(smoke_mapping, inplace=True)\n",
    "cat.favc.unique()\n"
   ]
  },
  {
   "cell_type": "code",
   "execution_count": null,
   "id": "1ed6b15a-1e86-4a77-80f8-5428eec01c00",
   "metadata": {},
   "outputs": [],
   "source": [
    "scc_mapping = {\n",
    "    'no': 0,\n",
    "    'yes': 1}\n",
    "cat['scc'].replace(scc_mapping, inplace=True)\n",
    "cat.favc.unique()"
   ]
  },
  {
   "cell_type": "code",
   "execution_count": null,
   "id": "2f8caf16-6ef1-4582-8fc8-100139baf0aa",
   "metadata": {},
   "outputs": [],
   "source": [
    "cat.head()"
   ]
  },
  {
   "cell_type": "markdown",
   "id": "97f1c33e-7ef3-4388-9858-5b45cfb15a59",
   "metadata": {},
   "source": [
    "<h2 style=\"color: #FFA07A;\">Merger of the numerical and categorical df.</h2>"
   ]
  },
  {
   "cell_type": "code",
   "execution_count": null,
   "id": "2911ed80-effa-4000-826c-436f2ca58db1",
   "metadata": {},
   "outputs": [],
   "source": [
    "#We reset the index in both df in order to merger them with the column index in common.\n",
    "num.reset_index(inplace=True)\n",
    "cat.reset_index(inplace=True)"
   ]
  },
  {
   "cell_type": "code",
   "execution_count": null,
   "id": "429dfaa3-a401-4dea-93e0-7e5c975222c5",
   "metadata": {},
   "outputs": [],
   "source": [
    "df_final = cat.merge(num, on = [\"index\"],how=\"inner\")\n",
    "df_final.shape"
   ]
  },
  {
   "cell_type": "code",
   "execution_count": null,
   "id": "24002133-66c2-49f6-9d28-a494934e2709",
   "metadata": {},
   "outputs": [],
   "source": [
    "#We need to delete the column index for our model.\n",
    "df_final.drop(columns = \"index\", inplace =True)"
   ]
  },
  {
   "cell_type": "code",
   "execution_count": null,
   "id": "0442c310-afc7-490f-b029-5bcd7ff4a61b",
   "metadata": {},
   "outputs": [],
   "source": [
    "df_final.info()"
   ]
  },
  {
   "cell_type": "markdown",
   "id": "48227351-d9b8-4db2-8b54-b714f5ca51ce",
   "metadata": {
    "jp-MarkdownHeadingCollapsed": true
   },
   "source": [
    "<h1 style=\"color: #F08080;\">05. Data Preprocessing </h1>"
   ]
  },
  {
   "cell_type": "markdown",
   "id": "052b8831-fcf4-4215-b2ed-e7f6b4398dde",
   "metadata": {},
   "source": [
    "<h2 style=\"color: #FFA07A;\">X-Y Split</h2>"
   ]
  },
  {
   "cell_type": "code",
   "execution_count": null,
   "id": "5b497d90-9fd5-4548-8735-65387951f10a",
   "metadata": {},
   "outputs": [],
   "source": [
    "y = df_final[\"nobeyesdad\"]\n",
    "X = df_final.drop(columns = [\"nobeyesdad\"]) "
   ]
  },
  {
   "cell_type": "markdown",
   "id": "55f9c5e1-3c8b-4010-846c-e3a363dde77a",
   "metadata": {},
   "source": [
    "<h2 style=\"color: #FFA07A;\">Modeling</h2>"
   ]
  },
  {
   "cell_type": "code",
   "execution_count": null,
   "id": "f6f7e57d-9f76-474d-a91f-e9fc113a5829",
   "metadata": {},
   "outputs": [],
   "source": [
    "X_train, X_test, y_train, y_test = train_test_split(X, y, test_size=0.2, random_state=42)"
   ]
  },
  {
   "cell_type": "code",
   "execution_count": null,
   "id": "2c91e762-ffac-4356-9503-4790805760a8",
   "metadata": {},
   "outputs": [],
   "source": [
    "print(f'100% of our data: {len(df)}.')\n",
    "print(f'70% for training data: {len(X_train)}.')\n",
    "print(f'30% for test data: {len(X_test)}.')"
   ]
  },
  {
   "cell_type": "markdown",
   "id": "fb8a3db3-a09c-4502-ade6-190056d8bd63",
   "metadata": {},
   "source": [
    "<h2 style=\"color: #FFA07A;\">Model Selection: Logistic Regression</h2>"
   ]
  },
  {
   "cell_type": "code",
   "execution_count": null,
   "id": "f83d42b6-8499-42cf-b29b-b4eacf60b412",
   "metadata": {},
   "outputs": [],
   "source": [
    "model = LogisticRegression()\n",
    "model.fit(X_train, y_train)\n",
    "predictions = model.predict(X_test)"
   ]
  },
  {
   "cell_type": "code",
   "execution_count": null,
   "id": "7b2c2b46-3ed3-4b2e-b454-825996cca3bd",
   "metadata": {},
   "outputs": [],
   "source": [
    "print(classification_report(y_test, predictions))"
   ]
  },
  {
   "cell_type": "code",
   "execution_count": null,
   "id": "e6b54884-2802-4b1c-a9f9-366e9f08432a",
   "metadata": {},
   "outputs": [],
   "source": [
    "print(\"Test data accuracy: \",model.score(X_test,y_test))\n",
    "print(\"Train data accuracy: \", model.score(X_train, y_train))"
   ]
  },
  {
   "cell_type": "code",
   "execution_count": null,
   "id": "b2ef88f6-6d7e-4e95-b2f8-b89b5eb2c328",
   "metadata": {},
   "outputs": [],
   "source": [
    "cm = confusion_matrix(y_test, predictions)\n",
    "disp = ConfusionMatrixDisplay(confusion_matrix=cm)\n",
    "plt.figure(figsize=(8, 6))\n",
    "disp.plot(cmap='Oranges')  \n",
    "plt.grid(True)\n",
    "plt.show()"
   ]
  },
  {
   "cell_type": "markdown",
   "id": "b30ee7af-0703-4a7e-834e-90fe39a9f0ab",
   "metadata": {},
   "source": [
    "<h1 style=\"color: #F08080;\">06. Improving the Model</h1>"
   ]
  },
  {
   "cell_type": "markdown",
   "id": "1a73b4a3-0991-4301-aae2-6d27a63fd3fe",
   "metadata": {},
   "source": [
    "<h2 style=\"color: #FFA07A;\">Model Selection: Downsample</h2>"
   ]
  },
  {
   "cell_type": "code",
   "execution_count": null,
   "id": "47106734-1d18-4f31-99a4-be5c83271b56",
   "metadata": {},
   "outputs": [],
   "source": [
    "#We are going to downsample the model to 272 (is the category in our target with less values)\n",
    "df_final.nobeyesdad.value_counts()"
   ]
  },
  {
   "cell_type": "code",
   "execution_count": null,
   "id": "1acf1521-88be-41e1-af67-c0273954e939",
   "metadata": {},
   "outputs": [],
   "source": [
    "#we create independent df for each category in our target column:\n",
    "\n",
    "Normal_weight = df_final[df_final.nobeyesdad == 0] \n",
    "\n",
    "Overweight = df_final[df_final.nobeyesdad == 1] \n",
    "\n",
    "obesity = df_final[df_final.nobeyesdad == 2] \n",
    "\n",
    "insufficient = df_final[df_final.nobeyesdad == 3] "
   ]
  },
  {
   "cell_type": "code",
   "execution_count": null,
   "id": "d2536b1a-0b79-4056-b460-d407fe0c6140",
   "metadata": {},
   "outputs": [],
   "source": [
    "#we apply the downsample:\n",
    "\n",
    "obesity = obesity.sample(272)\n",
    "Normal_weight = Normal_weight.sample(272)\n",
    "Overweight = Overweight.sample(272)"
   ]
  },
  {
   "cell_type": "code",
   "execution_count": null,
   "id": "5ffab78d-7a9d-4521-b98b-6b8a8f65d7e0",
   "metadata": {},
   "outputs": [],
   "source": [
    "#we concat the dfs\n",
    "df_downsampling = pd.concat([Normal_weight,Overweight,obesity,insufficient])"
   ]
  },
  {
   "cell_type": "code",
   "execution_count": null,
   "id": "4533ec89-95c9-4c30-bf2f-dbedaf22ca2b",
   "metadata": {},
   "outputs": [],
   "source": [
    "reducction = len(df_final) - len(df_downsampling)\n",
    "reducction"
   ]
  },
  {
   "cell_type": "code",
   "execution_count": null,
   "id": "1f7d1981-aa45-461b-902b-0d759f285f0c",
   "metadata": {},
   "outputs": [],
   "source": [
    "y_down = df_downsampling[\"nobeyesdad\"]\n",
    "X_down= df_downsampling.drop(columns = [\"nobeyesdad\"]) \n",
    "\n",
    "X_train_down, X_test_down, y_train_down, y_test_down = train_test_split(X_down, y_down, test_size=0.2, random_state=42)\n",
    "\n",
    "print(f'100% of our data: {len(df_downsampling)}.')\n",
    "print(f'70% for training data: {len(X_train_down)}.')\n",
    "print(f'30% for test data: {len(X_test_down)}.')"
   ]
  },
  {
   "cell_type": "code",
   "execution_count": null,
   "id": "695b001c-f7b9-426f-9fa9-4ae260a6d39f",
   "metadata": {},
   "outputs": [],
   "source": [
    "model = LogisticRegression()\n",
    "model.fit(X_train_down, y_train_down)\n",
    "predictions_down = model.predict(X_test_down)\n",
    "print(classification_report(y_test_down, predictions_down))\n"
   ]
  },
  {
   "cell_type": "code",
   "execution_count": null,
   "id": "1465d766-7f12-461d-8d7d-9e912a0f7ec4",
   "metadata": {},
   "outputs": [],
   "source": [
    "print(\"Test data accuracy: \",model.score(X_test_down,y_test_down))\n",
    "print(\"Train data accuracy: \", model.score(X_train_down, y_train_down))"
   ]
  },
  {
   "cell_type": "markdown",
   "id": "7b91d9c5-e14c-4f70-aa83-ef4491d7b867",
   "metadata": {},
   "source": [
    "<h2 style=\"color: #FFA07A;\">Model Selection: LazyRegressor</h2>"
   ]
  },
  {
   "cell_type": "code",
   "execution_count": null,
   "id": "8707e624-4a53-423d-9933-f5e8fc17b47c",
   "metadata": {},
   "outputs": [],
   "source": [
    "X_train, X_test, y_train, y_test = train_test_split(X, y, test_size=.2, random_state=42)\n",
    "models, predictions = LazyClassifier().fit(X_train, X_test, y_train, y_test)\n",
    "print(models[:10])"
   ]
  },
  {
   "cell_type": "code",
   "execution_count": null,
   "id": "f9760cc7-2ed2-4322-bab8-85ee6fbae757",
   "metadata": {},
   "outputs": [],
   "source": [
    "plt.figure(figsize=(5, 10))\n",
    "sns.set_theme(style=\"whitegrid\")\n",
    "ax = sns.barplot(y=predictions.index, x=\"Accuracy\", data=predictions)"
   ]
  },
  {
   "cell_type": "markdown",
   "id": "329edf40-14df-4f1a-8b53-257fce9dbcee",
   "metadata": {
    "jp-MarkdownHeadingCollapsed": true
   },
   "source": [
    "<h1 style=\"color: #F08080;\">07. Conclusions</h1>"
   ]
  },
  {
   "cell_type": "markdown",
   "id": "7f714ecf-abe4-47cd-b8dc-c72cb7a39219",
   "metadata": {},
   "source": [
    "We can conclude that after downsampling our model, the accuracy does not change significantly, indicating that the imbalance does not affect our models.\n",
    "\n",
    "For the purposes of this project, we are proceeding with the linear regression model. However, I have included the LazyRegressor model, which provides the top 10 models to apply to this dataset, in case anyone wishes to explore them individually."
   ]
  },
  {
   "cell_type": "code",
   "execution_count": null,
   "id": "39399a1c-7139-45b3-9299-7da359f431e0",
   "metadata": {},
   "outputs": [],
   "source": []
  }
 ],
 "metadata": {
  "kernelspec": {
   "display_name": "Python 3 (ipykernel)",
   "language": "python",
   "name": "python3"
  },
  "language_info": {
   "codemirror_mode": {
    "name": "ipython",
    "version": 3
   },
   "file_extension": ".py",
   "mimetype": "text/x-python",
   "name": "python",
   "nbconvert_exporter": "python",
   "pygments_lexer": "ipython3",
   "version": "3.12.4"
  }
 },
 "nbformat": 4,
 "nbformat_minor": 5
}
